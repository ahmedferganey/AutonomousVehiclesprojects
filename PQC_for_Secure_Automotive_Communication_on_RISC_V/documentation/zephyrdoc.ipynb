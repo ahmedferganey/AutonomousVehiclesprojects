{
 "cells": [
  {
   "cell_type": "markdown",
   "metadata": {},
   "source": [
    "```bash\n",
    "# install Circuit Dojo Zephyr SDK Tools for VS Code  then setup the initi your repo\n",
    "\n",
    "# using your fork for that template https://github.com/circuitdojo/zephyr-template\n",
    "\n",
    "ferganey@ferganey-Inspiron-5570:~/GitHub/personal/AutonomousVehiclesprojects/PQC_for_Secure_Automotive_Communication_on_RISC_V/MainProject$ \n",
    "git clone https://github.com/ahmedferganey/zephyr-project PQC     \n",
    "cd PQC              \n",
    "\n",
    "# Install Zephyr Development Environment\n",
    "pip install west\n",
    "west init -l .\n",
    "west update\n",
    "\n",
    "\n",
    "# Ensure that you have the necessary tools for your target board.\n",
    "\n",
    "\n",
    "# Install Zephyr and CMake Extensions in VS Code\n",
    "\n",
    "\n",
    "#  Configure Your Board\n",
    "\n",
    "\n",
    "## Edit the CMakeLists.txt if necessary.\n",
    "\n",
    "\n",
    "## Modify the prj.conf file for your hardware settings.\n",
    "\n",
    "\n",
    "## Make sure you’re building for the right target board by setting the board name in the west build command.\n",
    "\n",
    "\n",
    "# Build the Project\n",
    "\n",
    "\n",
    "# Flash the Firmware\n",
    "\n",
    "\n",
    "# Commit and Push Changes\n",
    "\n",
    "\n",
    "git add .\n",
    "git commit -m \"Set up project with custom board\"\n",
    "git push\n",
    "\n",
    "\n",
    "\n",
    "# Sync Your Fork with the Original Template \"To keep your fork up-to-date with the original template repository:\"\n",
    "\n",
    "git remote add upstream https://github.com/circuitdojo/zephyr-template.git\n",
    "git fetch upstream\n",
    "git merge upstream/main\n",
    "\n",
    "\n",
    "\n",
    "\n",
    "\n",
    "```"
   ]
  },
  {
   "cell_type": "markdown",
   "metadata": {},
   "source": []
  },
  {
   "cell_type": "markdown",
   "metadata": {},
   "source": []
  },
  {
   "cell_type": "code",
   "execution_count": null,
   "metadata": {
    "vscode": {
     "languageId": "plaintext"
    }
   },
   "outputs": [],
   "source": []
  }
 ],
 "metadata": {
  "language_info": {
   "name": "python"
  }
 },
 "nbformat": 4,
 "nbformat_minor": 2
}
